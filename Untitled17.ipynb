{
  "nbformat": 4,
  "nbformat_minor": 0,
  "metadata": {
    "colab": {
      "provenance": [],
      "authorship_tag": "ABX9TyOVpNBVYcLCTVGXfWZtNSvA",
      "include_colab_link": true
    },
    "kernelspec": {
      "name": "python3",
      "display_name": "Python 3"
    },
    "language_info": {
      "name": "python"
    }
  },
  "cells": [
    {
      "cell_type": "markdown",
      "metadata": {
        "id": "view-in-github",
        "colab_type": "text"
      },
      "source": [
        "<a href=\"https://colab.research.google.com/github/sajidabatool/Chap-No-6/blob/main/Untitled17.ipynb\" target=\"_parent\"><img src=\"https://colab.research.google.com/assets/colab-badge.svg\" alt=\"Open In Colab\"/></a>"
      ]
    },
    {
      "cell_type": "code",
      "execution_count": null,
      "metadata": {
        "id": "sOujCXx-6ca7"
      },
      "outputs": [],
      "source": []
    },
    {
      "cell_type": "markdown",
      "source": [
        "**Question No 6.3**"
      ],
      "metadata": {
        "id": "f3nPq7Hu6d9K"
      }
    },
    {
      "cell_type": "code",
      "source": [
        "glossary_sajida={\n",
        "    'Variable':'Named memory locations',\n",
        "    'List':'data structure to store group of items',\n",
        "    'HTML':'It is hyper text markup Language',\n",
        "    'iD':'Unique',\n",
        "    'Loops':'repaetidly executes stament or block of statements'\n",
        "}\n",
        "for key,value in glossary_sajida.items():\n",
        "    print(key+\":\\t\"+value)"
      ],
      "metadata": {
        "colab": {
          "base_uri": "https://localhost:8080/"
        },
        "id": "3Eqc_dP26kjZ",
        "outputId": "deab9d25-44ee-4609-8263-b9d5f3136440"
      },
      "execution_count": 2,
      "outputs": [
        {
          "output_type": "stream",
          "name": "stdout",
          "text": [
            "Variable:\tNamed memory locations\n",
            "List:\tdata structure to store group of items\n",
            "HTML:\tIt is hyper text markup Language\n",
            "iD:\tUnique\n",
            "Loops:\trepaetidly executes stament or block of statements\n"
          ]
        }
      ]
    },
    {
      "cell_type": "markdown",
      "source": [
        "**Question No 6.11**"
      ],
      "metadata": {
        "id": "jF_1JHUJ7kLI"
      }
    },
    {
      "cell_type": "code",
      "source": [
        "cities_sajida={\n",
        "    'Lahore':{\n",
        "        'Country':'Pakistan',\n",
        "        'Population':'11.13 Million',\n",
        "        'Fact':'Biggest city of the region'\n",
        "    },\n",
        "    'New York':{\n",
        "        'Country':'United States',\n",
        "        'Population':'8.468 Million',\n",
        "        'Fact':'About 22 percent of New York City\\'s land is used for public parks '\n",
        "    },\n",
        "    'Mumbai':{\n",
        "        'Country':'India',\n",
        "        'Population':'20.96 Million',\n",
        "        'Fact':'Mumbai was earlier called as Bombay'\n",
        "    }\n",
        "}\n",
        "for cities,info in cities_sajida.items():\n",
        "    print(\"\\nCity Name: \"+cities)\n",
        "    print(\"\\tContry: \"+info['Country'])\n",
        "    print(\"\\tPopulation: \"+info['Population'])\n",
        "    print(\"\\tFact: \"+info['Fact'])"
      ],
      "metadata": {
        "colab": {
          "base_uri": "https://localhost:8080/"
        },
        "id": "UuVHuY7c7rzx",
        "outputId": "e73501df-bcc1-42c2-fd54-6263b8bc4ec3"
      },
      "execution_count": 3,
      "outputs": [
        {
          "output_type": "stream",
          "name": "stdout",
          "text": [
            "\n",
            "City Name: Lahore\n",
            "\tContry: Pakistan\n",
            "\tPopulation: 11.13 Million\n",
            "\tFact: Biggest city of the region\n",
            "\n",
            "City Name: New York\n",
            "\tContry: United States\n",
            "\tPopulation: 8.468 Million\n",
            "\tFact: About 22 percent of New York City's land is used for public parks \n",
            "\n",
            "City Name: Mumbai\n",
            "\tContry: India\n",
            "\tPopulation: 20.96 Million\n",
            "\tFact: Mumbai was earlier called as Bombay\n"
          ]
        }
      ]
    },
    {
      "cell_type": "markdown",
      "source": [
        "**Question No 6.12**"
      ],
      "metadata": {
        "id": "ygXcL3iZ8FV9"
      }
    },
    {
      "cell_type": "code",
      "source": [
        "favorite_languages_sajida = {\n",
        "    'jen': 'python',\n",
        "    'sarah': 'c',\n",
        "    'edward': 'ruby',\n",
        "    'phil': 'python',\n",
        "}\n",
        "print(\"Follwing items are in the dictionary.\")\n",
        "for name,language in favorite_languages_sajida.items():\n",
        "    print(name.title()+\"'s favorite Language is: \"+language.title())\n",
        "\n",
        "# adding new keys and values in the dictionary\n",
        "favorite_languages_sajida['Lara']='html'\n",
        "favorite_languages_sajida['Smith']='php'\n",
        "print(\"\\nFollwing items are in the dictionary after adding new keys and values.\")\n",
        "for name,language in favorite_languages_sajida.items():\n",
        "    print(name.title()+\"'s favorite Language is --> \"+language.upper())"
      ],
      "metadata": {
        "colab": {
          "base_uri": "https://localhost:8080/"
        },
        "id": "nr0p5DbJ8Lqc",
        "outputId": "05499014-f009-4d4e-9f03-fc60be525c4f"
      },
      "execution_count": 4,
      "outputs": [
        {
          "output_type": "stream",
          "name": "stdout",
          "text": [
            "Follwing items are in the dictionary.\n",
            "Jen's favorite Language is: Python\n",
            "Sarah's favorite Language is: C\n",
            "Edward's favorite Language is: Ruby\n",
            "Phil's favorite Language is: Python\n",
            "\n",
            "Follwing items are in the dictionary after adding new keys and values.\n",
            "Jen's favorite Language is --> PYTHON\n",
            "Sarah's favorite Language is --> C\n",
            "Edward's favorite Language is --> RUBY\n",
            "Phil's favorite Language is --> PYTHON\n",
            "Lara's favorite Language is --> HTML\n",
            "Smith's favorite Language is --> PHP\n"
          ]
        }
      ]
    }
  ]
}